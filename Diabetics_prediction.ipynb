{
  "cells": [
    {
      "cell_type": "markdown",
      "metadata": {
        "id": "SNuPBfjgPyO7"
      },
      "source": [
        "# Importing the modules"
      ]
    },
    {
      "cell_type": "code",
      "execution_count": null,
      "metadata": {
        "id": "cwd-YmB2C_Bp"
      },
      "outputs": [],
      "source": [
        "import numpy as np\n",
        "import pandas as pd\n",
        "from sklearn.preprocessing import StandardScaler\n",
        "from sklearn.model_selection import train_test_split\n",
        "from sklearn import svm\n",
        "from sklearn.metrics import accuracy_score"
      ]
    },
    {
      "cell_type": "markdown",
      "metadata": {
        "id": "LU7q0BRmP_lH"
      },
      "source": [
        "# Data Collection and Analysis\n",
        "# PIMA Diabetes Dataset"
      ]
    },
    {
      "cell_type": "code",
      "execution_count": null,
      "metadata": {
        "id": "6U8gZkgKDst8"
      },
      "outputs": [],
      "source": [
        "#Loading the diabetes dataset to a pandas dataframe\n",
        "!gdown 1nFEScy56mlrhauhA4IicdXatfMdF-VG-\n",
        "diabetes_dataset=pd.read_csv('/content/diabetes.csv')"
      ]
    },
    {
      "cell_type": "code",
      "execution_count": null,
      "metadata": {
        "id": "oPS2JCQ1ExgI"
      },
      "outputs": [],
      "source": [
        "#Printing the first 5 rows of the dataset\n",
        "diabetes_dataset.head()"
      ]
    },
    {
      "cell_type": "code",
      "execution_count": null,
      "metadata": {
        "id": "dCeQrlelE9ee"
      },
      "outputs": [],
      "source": [
        "# Trying to know the number of rows and columns in the dataset\n",
        "diabetes_dataset.shape"
      ]
    },
    {
      "cell_type": "code",
      "execution_count": null,
      "metadata": {
        "id": "BUrkw2l6FV7l"
      },
      "outputs": [],
      "source": [
        "# Getting the statistical measures of the dataset\n",
        "diabetes_dataset.describe()"
      ]
    },
    {
      "cell_type": "code",
      "execution_count": null,
      "metadata": {
        "id": "MTpApcCfFna8"
      },
      "outputs": [],
      "source": [
        "diabetes_dataset['Outcome'].value_counts()"
      ]
    },
    {
      "cell_type": "markdown",
      "metadata": {
        "id": "7os8LLtlGJkp"
      },
      "source": [
        "0---> Non-Diabetic\n",
        "1---> Diabetic\n",
        "\n",
        "\n"
      ]
    },
    {
      "cell_type": "code",
      "execution_count": null,
      "metadata": {
        "id": "cjS6z9J8GH_f"
      },
      "outputs": [],
      "source": [
        "diabetes_dataset.groupby('Outcome').mean()"
      ]
    },
    {
      "cell_type": "code",
      "execution_count": null,
      "metadata": {
        "id": "Z6BQFz6LGhH8"
      },
      "outputs": [],
      "source": [
        "# Separating the data and labels\n",
        "X = diabetes_dataset.drop(columns = 'Outcome', axis=1)\n",
        "Y = diabetes_dataset['Outcome']"
      ]
    },
    {
      "cell_type": "code",
      "execution_count": null,
      "metadata": {
        "id": "ijtSmQnrHRQG"
      },
      "outputs": [],
      "source": [
        "X"
      ]
    },
    {
      "cell_type": "code",
      "execution_count": null,
      "metadata": {
        "id": "qoKaON5gHU7E"
      },
      "outputs": [],
      "source": [
        "Y"
      ]
    },
    {
      "cell_type": "markdown",
      "metadata": {
        "id": "QQrnuSTIPv3i"
      },
      "source": [
        "# Data standardization"
      ]
    },
    {
      "cell_type": "code",
      "execution_count": null,
      "metadata": {
        "id": "Sbm8d_ERHq3l"
      },
      "outputs": [],
      "source": [
        "scaler = StandardScaler()"
      ]
    },
    {
      "cell_type": "code",
      "execution_count": null,
      "metadata": {
        "id": "-8wdJUAEHW5s"
      },
      "outputs": [],
      "source": [
        "scaler.fit(X)"
      ]
    },
    {
      "cell_type": "code",
      "execution_count": null,
      "metadata": {
        "id": "iJ9pUKuSHymC"
      },
      "outputs": [],
      "source": [
        "standardized_data=scaler.transform(X)"
      ]
    },
    {
      "cell_type": "code",
      "execution_count": null,
      "metadata": {
        "id": "5TjV1sYYH_Ms"
      },
      "outputs": [],
      "source": [
        "standardized_data"
      ]
    },
    {
      "cell_type": "code",
      "execution_count": null,
      "metadata": {
        "id": "ZeUxgjnHIAic"
      },
      "outputs": [],
      "source": [
        "X = standardized_data\n",
        "Y = diabetes_dataset['Outcome']\n"
      ]
    },
    {
      "cell_type": "code",
      "execution_count": null,
      "metadata": {
        "id": "GPCYWvX2IM0_"
      },
      "outputs": [],
      "source": [
        "X\n",
        "Y"
      ]
    },
    {
      "cell_type": "code",
      "execution_count": null,
      "metadata": {
        "id": "1JM7omoWIOQl"
      },
      "outputs": [],
      "source": [
        "print(X)"
      ]
    },
    {
      "cell_type": "code",
      "execution_count": null,
      "metadata": {
        "id": "ikgxiI67IRDz"
      },
      "outputs": [],
      "source": [
        "print(Y)"
      ]
    },
    {
      "cell_type": "markdown",
      "metadata": {
        "id": "TGCcSd7FIWEV"
      },
      "source": [
        "Train Test split\n"
      ]
    },
    {
      "cell_type": "code",
      "execution_count": null,
      "metadata": {
        "id": "hRJhilhoIXeS"
      },
      "outputs": [],
      "source": [
        "X_train, X_test, Y_train, Y_test = train_test_split(X,Y, test_size=0.2, stratify=Y, random_state=2)"
      ]
    },
    {
      "cell_type": "code",
      "execution_count": null,
      "metadata": {
        "id": "appQ1rIsJRzE"
      },
      "outputs": [],
      "source": [
        "print(X.shape, X_train.shape, X_test.shape)"
      ]
    },
    {
      "cell_type": "markdown",
      "metadata": {
        "id": "Kbko5dlbQO9h"
      },
      "source": [
        "# Training the model"
      ]
    },
    {
      "cell_type": "code",
      "execution_count": null,
      "metadata": {
        "id": "LfCNbocwJapy"
      },
      "outputs": [],
      "source": [
        "classifier = svm.SVC(kernel = 'linear')"
      ]
    },
    {
      "cell_type": "code",
      "execution_count": null,
      "metadata": {
        "id": "sQasBKcHJniM"
      },
      "outputs": [],
      "source": [
        "#Training the support vector Machine classifier\n",
        "classifier.fit(X_train,Y_train)"
      ]
    },
    {
      "cell_type": "markdown",
      "metadata": {
        "id": "u_fyurdrQZRg"
      },
      "source": [
        "# Model Evaluation and Accuracy Score"
      ]
    },
    {
      "cell_type": "code",
      "execution_count": null,
      "metadata": {
        "id": "RZWH8OJNKHFA"
      },
      "outputs": [],
      "source": [
        "#accuarcy score on the training data\n",
        "X_train_prediction = classifier.predict(X_train)\n",
        "training_data_accuracy = accuracy_score(X_train_prediction,Y_train)"
      ]
    },
    {
      "cell_type": "code",
      "execution_count": null,
      "metadata": {
        "id": "mWyodBwVJ2dC"
      },
      "outputs": [],
      "source": [
        "print(\"Accuracy score of the training data : \", training_data_accuracy)"
      ]
    },
    {
      "cell_type": "code",
      "execution_count": null,
      "metadata": {
        "id": "nO-HlLXkKu_J"
      },
      "outputs": [],
      "source": [
        "#Accuracy score on the test data\n",
        "X_test_prediction = classifier.predict(X_test)\n",
        "test_data_accuracy = accuracy_score(X_test_prediction, Y_test)\n"
      ]
    },
    {
      "cell_type": "code",
      "execution_count": null,
      "metadata": {
        "id": "3QRCmQoBLFJx"
      },
      "outputs": [],
      "source": [
        "print(\"Accuracy score on the test data is :\", test_data_accuracy)"
      ]
    },
    {
      "cell_type": "markdown",
      "metadata": {
        "id": "A2GpntFbQiix"
      },
      "source": [
        "# Making a prediction"
      ]
    },
    {
      "cell_type": "code",
      "execution_count": null,
      "metadata": {
        "id": "TGOQ4L5JLNDa"
      },
      "outputs": [],
      "source": [
        "input_data = (5,166,72,19,175,25.8,0.587,51)\n",
        "\n",
        "# changing the input_data to numpy array\n",
        "input_data_as_numpy_array=np.asarray(input_data)\n",
        "\n",
        "# Reshape the data as we are predicting for one instance\n",
        "input_data_reshaped=input_data_as_numpy_array.reshape(1,-1)\n",
        "\n",
        "# Standardize the input data\n",
        "std_data = scaler.transform(input_data_reshaped)\n",
        "\n",
        "print(std_data)\n",
        "\n",
        "prediction = classifier.predict(std_data)\n",
        "print(prediction)\n",
        "\n",
        "if prediction[0]==0:\n",
        "  print('The person is not diabetic')\n",
        "else:\n",
        "  print('The person is not diabetic')"
      ]
    },
    {
      "cell_type": "code",
      "execution_count": null,
      "metadata": {
        "id": "gJWyenO6Lwnq"
      },
      "outputs": [],
      "source": []
    }
  ],
  "metadata": {
    "colab": {
      "private_outputs": true,
      "provenance": []
    },
    "kernelspec": {
      "display_name": "Python 3",
      "language": "python",
      "name": "python3"
    },
    "language_info": {
      "codemirror_mode": {
        "name": "ipython",
        "version": 3
      },
      "file_extension": ".py",
      "mimetype": "text/x-python",
      "name": "python",
      "nbconvert_exporter": "python",
      "pygments_lexer": "ipython3",
      "version": "3.8.8"
    }
  },
  "nbformat": 4,
  "nbformat_minor": 0
}